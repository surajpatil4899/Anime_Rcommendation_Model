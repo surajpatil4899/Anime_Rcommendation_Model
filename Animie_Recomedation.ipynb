{
 "cells": [
  {
   "cell_type": "code",
   "execution_count": 1,
   "metadata": {},
   "outputs": [],
   "source": [
    "import pandas as pd\n",
    "import numpy as np\n",
    "import tensorflow as tf\n",
    "import matplotlib as plt"
   ]
  },
  {
   "cell_type": "code",
   "execution_count": 5,
   "metadata": {},
   "outputs": [],
   "source": [
    "df = pd.read_csv('anime.csv')"
   ]
  },
  {
   "cell_type": "code",
   "execution_count": 11,
   "metadata": {},
   "outputs": [
    {
     "name": "stdout",
     "output_type": "stream",
     "text": [
      "   MAL_ID          Name Score  \\\n",
      "0       1  Cowboy Bebop  8.78   \n",
      "\n",
      "                                            Genres  English name  \\\n",
      "0  Action, Adventure, Comedy, Drama, Sci-Fi, Space  Cowboy Bebop   \n",
      "\n",
      "  Japanese name Type Episodes                        Aired    Premiered  ...  \\\n",
      "0     カウボーイビバップ   TV       26  Apr 3, 1998 to Apr 24, 1999  Spring 1998  ...   \n",
      "\n",
      "   Score-10   Score-9   Score-8  Score-7  Score-6 Score-5 Score-4  Score-3  \\\n",
      "0  229170.0  182126.0  131625.0  62330.0  20688.0  8904.0  3184.0   1357.0   \n",
      "\n",
      "   Score-2  Score-1  \n",
      "0    741.0   1580.0  \n",
      "\n",
      "[1 rows x 35 columns]\n"
     ]
    }
   ],
   "source": [
    "print(df.head(1))"
   ]
  },
  {
   "cell_type": "code",
   "execution_count": 81,
   "metadata": {},
   "outputs": [],
   "source": [
    "df  = df[['Genres','English name','Producers','Studios','Rating']]"
   ]
  },
  {
   "cell_type": "code",
   "execution_count": 25,
   "metadata": {},
   "outputs": [
    {
     "data": {
      "text/html": [
       "<div>\n",
       "<style scoped>\n",
       "    .dataframe tbody tr th:only-of-type {\n",
       "        vertical-align: middle;\n",
       "    }\n",
       "\n",
       "    .dataframe tbody tr th {\n",
       "        vertical-align: top;\n",
       "    }\n",
       "\n",
       "    .dataframe thead th {\n",
       "        text-align: right;\n",
       "    }\n",
       "</style>\n",
       "<table border=\"1\" class=\"dataframe\">\n",
       "  <thead>\n",
       "    <tr style=\"text-align: right;\">\n",
       "      <th></th>\n",
       "      <th>Genres</th>\n",
       "      <th>English name</th>\n",
       "      <th>Producers</th>\n",
       "      <th>Studios</th>\n",
       "      <th>Rating</th>\n",
       "    </tr>\n",
       "  </thead>\n",
       "  <tbody>\n",
       "    <tr>\n",
       "      <th>0</th>\n",
       "      <td>Action, Adventure, Comedy, Drama, Sci-Fi, Space</td>\n",
       "      <td>Cowboy Bebop</td>\n",
       "      <td>Bandai Visual</td>\n",
       "      <td>Sunrise</td>\n",
       "      <td>R - 17+ (violence &amp; profanity)</td>\n",
       "    </tr>\n",
       "  </tbody>\n",
       "</table>\n",
       "</div>"
      ],
      "text/plain": [
       "                                            Genres  English name  \\\n",
       "0  Action, Adventure, Comedy, Drama, Sci-Fi, Space  Cowboy Bebop   \n",
       "\n",
       "       Producers  Studios                          Rating  \n",
       "0  Bandai Visual  Sunrise  R - 17+ (violence & profanity)  "
      ]
     },
     "execution_count": 25,
     "metadata": {},
     "output_type": "execute_result"
    }
   ],
   "source": [
    "df.head(1)"
   ]
  },
  {
   "cell_type": "code",
   "execution_count": 26,
   "metadata": {},
   "outputs": [
    {
     "data": {
      "text/plain": [
       "Genres          0\n",
       "English name    0\n",
       "Producers       0\n",
       "Studios         0\n",
       "Rating          0\n",
       "dtype: int64"
      ]
     },
     "execution_count": 26,
     "metadata": {},
     "output_type": "execute_result"
    }
   ],
   "source": [
    "df.isnull().sum()"
   ]
  },
  {
   "cell_type": "code",
   "execution_count": 27,
   "metadata": {},
   "outputs": [
    {
     "data": {
      "text/plain": [
       "3404"
      ]
     },
     "execution_count": 27,
     "metadata": {},
     "output_type": "execute_result"
    }
   ],
   "source": [
    "df.duplicated().sum()"
   ]
  },
  {
   "cell_type": "code",
   "execution_count": 28,
   "metadata": {},
   "outputs": [
    {
     "data": {
      "text/plain": [
       "'Action, Adventure, Comedy, Drama, Sci-Fi, Space'"
      ]
     },
     "execution_count": 28,
     "metadata": {},
     "output_type": "execute_result"
    }
   ],
   "source": [
    "df.iloc[0].Genres"
   ]
  },
  {
   "cell_type": "code",
   "execution_count": 31,
   "metadata": {},
   "outputs": [
    {
     "name": "stderr",
     "output_type": "stream",
     "text": [
      "C:\\Users\\sammed\\AppData\\Local\\Temp\\ipykernel_11908\\439237982.py:2: SettingWithCopyWarning: \n",
      "A value is trying to be set on a copy of a slice from a DataFrame.\n",
      "Try using .loc[row_indexer,col_indexer] = value instead\n",
      "\n",
      "See the caveats in the documentation: https://pandas.pydata.org/pandas-docs/stable/user_guide/indexing.html#returning-a-view-versus-a-copy\n",
      "  df['Producers'] = df['Producers'].apply(lambda x: x.split())\n",
      "C:\\Users\\sammed\\AppData\\Local\\Temp\\ipykernel_11908\\439237982.py:3: SettingWithCopyWarning: \n",
      "A value is trying to be set on a copy of a slice from a DataFrame.\n",
      "Try using .loc[row_indexer,col_indexer] = value instead\n",
      "\n",
      "See the caveats in the documentation: https://pandas.pydata.org/pandas-docs/stable/user_guide/indexing.html#returning-a-view-versus-a-copy\n",
      "  df['Studios'] = df['Studios'].apply(lambda x: x.split())\n",
      "C:\\Users\\sammed\\AppData\\Local\\Temp\\ipykernel_11908\\439237982.py:4: SettingWithCopyWarning: \n",
      "A value is trying to be set on a copy of a slice from a DataFrame.\n",
      "Try using .loc[row_indexer,col_indexer] = value instead\n",
      "\n",
      "See the caveats in the documentation: https://pandas.pydata.org/pandas-docs/stable/user_guide/indexing.html#returning-a-view-versus-a-copy\n",
      "  df['Rating'] = df['Rating'].apply(lambda x: x.split())\n"
     ]
    },
    {
     "data": {
      "text/html": [
       "<div>\n",
       "<style scoped>\n",
       "    .dataframe tbody tr th:only-of-type {\n",
       "        vertical-align: middle;\n",
       "    }\n",
       "\n",
       "    .dataframe tbody tr th {\n",
       "        vertical-align: top;\n",
       "    }\n",
       "\n",
       "    .dataframe thead th {\n",
       "        text-align: right;\n",
       "    }\n",
       "</style>\n",
       "<table border=\"1\" class=\"dataframe\">\n",
       "  <thead>\n",
       "    <tr style=\"text-align: right;\">\n",
       "      <th></th>\n",
       "      <th>Genres</th>\n",
       "      <th>English name</th>\n",
       "      <th>Producers</th>\n",
       "      <th>Studios</th>\n",
       "      <th>Rating</th>\n",
       "    </tr>\n",
       "  </thead>\n",
       "  <tbody>\n",
       "    <tr>\n",
       "      <th>0</th>\n",
       "      <td>[Action,, Adventure,, Comedy,, Drama,, Sci-Fi,...</td>\n",
       "      <td>Cowboy Bebop</td>\n",
       "      <td>[Bandai, Visual]</td>\n",
       "      <td>[Sunrise]</td>\n",
       "      <td>[R, -, 17+, (violence, &amp;, profanity)]</td>\n",
       "    </tr>\n",
       "  </tbody>\n",
       "</table>\n",
       "</div>"
      ],
      "text/plain": [
       "                                              Genres  English name  \\\n",
       "0  [Action,, Adventure,, Comedy,, Drama,, Sci-Fi,...  Cowboy Bebop   \n",
       "\n",
       "          Producers    Studios                                 Rating  \n",
       "0  [Bandai, Visual]  [Sunrise]  [R, -, 17+, (violence, &, profanity)]  "
      ]
     },
     "execution_count": 31,
     "metadata": {},
     "output_type": "execute_result"
    }
   ],
   "source": [
    "df['Genres'] = df['Genres'].apply(lambda x: x.split())\n",
    "df['Producers'] = df['Producers'].apply(lambda x: x.split())\n",
    "df['Studios'] = df['Studios'].apply(lambda x: x.split())\n",
    "df['Rating'] = df['Rating'].apply(lambda x: x.split())\n",
    "\n",
    "df.head(1)"
   ]
  },
  {
   "cell_type": "code",
   "execution_count": 32,
   "metadata": {},
   "outputs": [],
   "source": [
    "df['tags'] = df['Genres'] + df['Producers'] + df['Studios'] + df['Rating']"
   ]
  },
  {
   "cell_type": "code",
   "execution_count": 33,
   "metadata": {},
   "outputs": [
    {
     "data": {
      "text/html": [
       "<div>\n",
       "<style scoped>\n",
       "    .dataframe tbody tr th:only-of-type {\n",
       "        vertical-align: middle;\n",
       "    }\n",
       "\n",
       "    .dataframe tbody tr th {\n",
       "        vertical-align: top;\n",
       "    }\n",
       "\n",
       "    .dataframe thead th {\n",
       "        text-align: right;\n",
       "    }\n",
       "</style>\n",
       "<table border=\"1\" class=\"dataframe\">\n",
       "  <thead>\n",
       "    <tr style=\"text-align: right;\">\n",
       "      <th></th>\n",
       "      <th>Genres</th>\n",
       "      <th>English name</th>\n",
       "      <th>Producers</th>\n",
       "      <th>Studios</th>\n",
       "      <th>Rating</th>\n",
       "      <th>tags</th>\n",
       "    </tr>\n",
       "  </thead>\n",
       "  <tbody>\n",
       "    <tr>\n",
       "      <th>0</th>\n",
       "      <td>[Action,, Adventure,, Comedy,, Drama,, Sci-Fi,...</td>\n",
       "      <td>Cowboy Bebop</td>\n",
       "      <td>[Bandai, Visual]</td>\n",
       "      <td>[Sunrise]</td>\n",
       "      <td>[R, -, 17+, (violence, &amp;, profanity)]</td>\n",
       "      <td>[Action,, Adventure,, Comedy,, Drama,, Sci-Fi,...</td>\n",
       "    </tr>\n",
       "    <tr>\n",
       "      <th>1</th>\n",
       "      <td>[Action,, Drama,, Mystery,, Sci-Fi,, Space]</td>\n",
       "      <td>Cowboy Bebop:The Movie</td>\n",
       "      <td>[Sunrise,, Bandai, Visual]</td>\n",
       "      <td>[Bones]</td>\n",
       "      <td>[R, -, 17+, (violence, &amp;, profanity)]</td>\n",
       "      <td>[Action,, Drama,, Mystery,, Sci-Fi,, Space, Su...</td>\n",
       "    </tr>\n",
       "    <tr>\n",
       "      <th>2</th>\n",
       "      <td>[Action,, Sci-Fi,, Adventure,, Comedy,, Drama,...</td>\n",
       "      <td>Trigun</td>\n",
       "      <td>[Victor, Entertainment]</td>\n",
       "      <td>[Madhouse]</td>\n",
       "      <td>[PG-13, -, Teens, 13, or, older]</td>\n",
       "      <td>[Action,, Sci-Fi,, Adventure,, Comedy,, Drama,...</td>\n",
       "    </tr>\n",
       "    <tr>\n",
       "      <th>3</th>\n",
       "      <td>[Action,, Mystery,, Police,, Supernatural,, Dr...</td>\n",
       "      <td>Witch Hunter Robin</td>\n",
       "      <td>[TV, Tokyo,, Bandai, Visual,, Dentsu,, Victor,...</td>\n",
       "      <td>[Sunrise]</td>\n",
       "      <td>[PG-13, -, Teens, 13, or, older]</td>\n",
       "      <td>[Action,, Mystery,, Police,, Supernatural,, Dr...</td>\n",
       "    </tr>\n",
       "    <tr>\n",
       "      <th>4</th>\n",
       "      <td>[Adventure,, Fantasy,, Shounen,, Supernatural]</td>\n",
       "      <td>Beet the Vandel Buster</td>\n",
       "      <td>[TV, Tokyo,, Dentsu]</td>\n",
       "      <td>[Toei, Animation]</td>\n",
       "      <td>[PG, -, Children]</td>\n",
       "      <td>[Adventure,, Fantasy,, Shounen,, Supernatural,...</td>\n",
       "    </tr>\n",
       "  </tbody>\n",
       "</table>\n",
       "</div>"
      ],
      "text/plain": [
       "                                              Genres            English name  \\\n",
       "0  [Action,, Adventure,, Comedy,, Drama,, Sci-Fi,...            Cowboy Bebop   \n",
       "1        [Action,, Drama,, Mystery,, Sci-Fi,, Space]  Cowboy Bebop:The Movie   \n",
       "2  [Action,, Sci-Fi,, Adventure,, Comedy,, Drama,...                  Trigun   \n",
       "3  [Action,, Mystery,, Police,, Supernatural,, Dr...      Witch Hunter Robin   \n",
       "4     [Adventure,, Fantasy,, Shounen,, Supernatural]  Beet the Vandel Buster   \n",
       "\n",
       "                                           Producers            Studios  \\\n",
       "0                                   [Bandai, Visual]          [Sunrise]   \n",
       "1                         [Sunrise,, Bandai, Visual]            [Bones]   \n",
       "2                            [Victor, Entertainment]         [Madhouse]   \n",
       "3  [TV, Tokyo,, Bandai, Visual,, Dentsu,, Victor,...          [Sunrise]   \n",
       "4                               [TV, Tokyo,, Dentsu]  [Toei, Animation]   \n",
       "\n",
       "                                  Rating  \\\n",
       "0  [R, -, 17+, (violence, &, profanity)]   \n",
       "1  [R, -, 17+, (violence, &, profanity)]   \n",
       "2       [PG-13, -, Teens, 13, or, older]   \n",
       "3       [PG-13, -, Teens, 13, or, older]   \n",
       "4                      [PG, -, Children]   \n",
       "\n",
       "                                                tags  \n",
       "0  [Action,, Adventure,, Comedy,, Drama,, Sci-Fi,...  \n",
       "1  [Action,, Drama,, Mystery,, Sci-Fi,, Space, Su...  \n",
       "2  [Action,, Sci-Fi,, Adventure,, Comedy,, Drama,...  \n",
       "3  [Action,, Mystery,, Police,, Supernatural,, Dr...  \n",
       "4  [Adventure,, Fantasy,, Shounen,, Supernatural,...  "
      ]
     },
     "execution_count": 33,
     "metadata": {},
     "output_type": "execute_result"
    }
   ],
   "source": [
    "df.head()"
   ]
  },
  {
   "cell_type": "code",
   "execution_count": 34,
   "metadata": {},
   "outputs": [
    {
     "data": {
      "text/plain": [
       "['Action,',\n",
       " 'Adventure,',\n",
       " 'Comedy,',\n",
       " 'Drama,',\n",
       " 'Sci-Fi,',\n",
       " 'Space',\n",
       " 'Bandai',\n",
       " 'Visual',\n",
       " 'Sunrise',\n",
       " 'R',\n",
       " '-',\n",
       " '17+',\n",
       " '(violence',\n",
       " '&',\n",
       " 'profanity)']"
      ]
     },
     "execution_count": 34,
     "metadata": {},
     "output_type": "execute_result"
    }
   ],
   "source": [
    "df.iloc[0].tags"
   ]
  },
  {
   "cell_type": "code",
   "execution_count": 76,
   "metadata": {},
   "outputs": [
    {
     "data": {
      "text/html": [
       "<div>\n",
       "<style scoped>\n",
       "    .dataframe tbody tr th:only-of-type {\n",
       "        vertical-align: middle;\n",
       "    }\n",
       "\n",
       "    .dataframe tbody tr th {\n",
       "        vertical-align: top;\n",
       "    }\n",
       "\n",
       "    .dataframe thead th {\n",
       "        text-align: right;\n",
       "    }\n",
       "</style>\n",
       "<table border=\"1\" class=\"dataframe\">\n",
       "  <thead>\n",
       "    <tr style=\"text-align: right;\">\n",
       "      <th></th>\n",
       "      <th>English name</th>\n",
       "      <th>tags</th>\n",
       "    </tr>\n",
       "  </thead>\n",
       "  <tbody>\n",
       "    <tr>\n",
       "      <th>0</th>\n",
       "      <td>Cowboy Bebop</td>\n",
       "      <td>[Action,, Adventure,, Comedy,, Drama,, Sci-Fi,...</td>\n",
       "    </tr>\n",
       "    <tr>\n",
       "      <th>1</th>\n",
       "      <td>Cowboy Bebop:The Movie</td>\n",
       "      <td>[Action,, Drama,, Mystery,, Sci-Fi,, Space, Su...</td>\n",
       "    </tr>\n",
       "    <tr>\n",
       "      <th>2</th>\n",
       "      <td>Trigun</td>\n",
       "      <td>[Action,, Sci-Fi,, Adventure,, Comedy,, Drama,...</td>\n",
       "    </tr>\n",
       "    <tr>\n",
       "      <th>3</th>\n",
       "      <td>Witch Hunter Robin</td>\n",
       "      <td>[Action,, Mystery,, Police,, Supernatural,, Dr...</td>\n",
       "    </tr>\n",
       "    <tr>\n",
       "      <th>4</th>\n",
       "      <td>Beet the Vandel Buster</td>\n",
       "      <td>[Adventure,, Fantasy,, Shounen,, Supernatural,...</td>\n",
       "    </tr>\n",
       "  </tbody>\n",
       "</table>\n",
       "</div>"
      ],
      "text/plain": [
       "             English name                                               tags\n",
       "0            Cowboy Bebop  [Action,, Adventure,, Comedy,, Drama,, Sci-Fi,...\n",
       "1  Cowboy Bebop:The Movie  [Action,, Drama,, Mystery,, Sci-Fi,, Space, Su...\n",
       "2                  Trigun  [Action,, Sci-Fi,, Adventure,, Comedy,, Drama,...\n",
       "3      Witch Hunter Robin  [Action,, Mystery,, Police,, Supernatural,, Dr...\n",
       "4  Beet the Vandel Buster  [Adventure,, Fantasy,, Shounen,, Supernatural,..."
      ]
     },
     "execution_count": 76,
     "metadata": {},
     "output_type": "execute_result"
    }
   ],
   "source": [
    "new_df = df[['English name','tags']]\n",
    "new_df.head()"
   ]
  },
  {
   "cell_type": "code",
   "execution_count": 46,
   "metadata": {},
   "outputs": [
    {
     "name": "stderr",
     "output_type": "stream",
     "text": [
      "C:\\Users\\sammed\\AppData\\Local\\Temp\\ipykernel_11908\\2951490284.py:1: SettingWithCopyWarning: \n",
      "A value is trying to be set on a copy of a slice from a DataFrame.\n",
      "Try using .loc[row_indexer,col_indexer] = value instead\n",
      "\n",
      "See the caveats in the documentation: https://pandas.pydata.org/pandas-docs/stable/user_guide/indexing.html#returning-a-view-versus-a-copy\n",
      "  new_df['tags'] = new_df['tags'].apply(lambda x:\" \".join(x))\n"
     ]
    },
    {
     "data": {
      "text/html": [
       "<div>\n",
       "<style scoped>\n",
       "    .dataframe tbody tr th:only-of-type {\n",
       "        vertical-align: middle;\n",
       "    }\n",
       "\n",
       "    .dataframe tbody tr th {\n",
       "        vertical-align: top;\n",
       "    }\n",
       "\n",
       "    .dataframe thead th {\n",
       "        text-align: right;\n",
       "    }\n",
       "</style>\n",
       "<table border=\"1\" class=\"dataframe\">\n",
       "  <thead>\n",
       "    <tr style=\"text-align: right;\">\n",
       "      <th></th>\n",
       "      <th>English name</th>\n",
       "      <th>tags</th>\n",
       "    </tr>\n",
       "  </thead>\n",
       "  <tbody>\n",
       "    <tr>\n",
       "      <th>0</th>\n",
       "      <td>Cowboy Bebop</td>\n",
       "      <td>Action, Adventure, Comedy, Drama, Sci-Fi, Spac...</td>\n",
       "    </tr>\n",
       "    <tr>\n",
       "      <th>1</th>\n",
       "      <td>Cowboy Bebop:The Movie</td>\n",
       "      <td>Action, Drama, Mystery, Sci-Fi, Space Sunrise,...</td>\n",
       "    </tr>\n",
       "    <tr>\n",
       "      <th>2</th>\n",
       "      <td>Trigun</td>\n",
       "      <td>Action, Sci-Fi, Adventure, Comedy, Drama, Shou...</td>\n",
       "    </tr>\n",
       "    <tr>\n",
       "      <th>3</th>\n",
       "      <td>Witch Hunter Robin</td>\n",
       "      <td>Action, Mystery, Police, Supernatural, Drama, ...</td>\n",
       "    </tr>\n",
       "    <tr>\n",
       "      <th>4</th>\n",
       "      <td>Beet the Vandel Buster</td>\n",
       "      <td>Adventure, Fantasy, Shounen, Supernatural TV T...</td>\n",
       "    </tr>\n",
       "  </tbody>\n",
       "</table>\n",
       "</div>"
      ],
      "text/plain": [
       "             English name                                               tags\n",
       "0            Cowboy Bebop  Action, Adventure, Comedy, Drama, Sci-Fi, Spac...\n",
       "1  Cowboy Bebop:The Movie  Action, Drama, Mystery, Sci-Fi, Space Sunrise,...\n",
       "2                  Trigun  Action, Sci-Fi, Adventure, Comedy, Drama, Shou...\n",
       "3      Witch Hunter Robin  Action, Mystery, Police, Supernatural, Drama, ...\n",
       "4  Beet the Vandel Buster  Adventure, Fantasy, Shounen, Supernatural TV T..."
      ]
     },
     "execution_count": 46,
     "metadata": {},
     "output_type": "execute_result"
    }
   ],
   "source": [
    "new_df['tags'] = new_df['tags'].apply(lambda x:\" \".join(x))\n",
    "new_df.head()"
   ]
  },
  {
   "cell_type": "code",
   "execution_count": 47,
   "metadata": {},
   "outputs": [
    {
     "data": {
      "text/plain": [
       "'Action, Adventure, Comedy, Drama, Sci-Fi, Space Bandai Visual Sunrise R - 17+ (violence & profanity)'"
      ]
     },
     "execution_count": 47,
     "metadata": {},
     "output_type": "execute_result"
    }
   ],
   "source": [
    "new_df['tags'][0]"
   ]
  },
  {
   "cell_type": "code",
   "execution_count": 48,
   "metadata": {},
   "outputs": [
    {
     "name": "stderr",
     "output_type": "stream",
     "text": [
      "C:\\Users\\sammed\\AppData\\Local\\Temp\\ipykernel_11908\\883946691.py:1: SettingWithCopyWarning: \n",
      "A value is trying to be set on a copy of a slice from a DataFrame.\n",
      "Try using .loc[row_indexer,col_indexer] = value instead\n",
      "\n",
      "See the caveats in the documentation: https://pandas.pydata.org/pandas-docs/stable/user_guide/indexing.html#returning-a-view-versus-a-copy\n",
      "  new_df['tags'] = new_df['tags'].apply(lambda x: x.lower())\n"
     ]
    },
    {
     "data": {
      "text/html": [
       "<div>\n",
       "<style scoped>\n",
       "    .dataframe tbody tr th:only-of-type {\n",
       "        vertical-align: middle;\n",
       "    }\n",
       "\n",
       "    .dataframe tbody tr th {\n",
       "        vertical-align: top;\n",
       "    }\n",
       "\n",
       "    .dataframe thead th {\n",
       "        text-align: right;\n",
       "    }\n",
       "</style>\n",
       "<table border=\"1\" class=\"dataframe\">\n",
       "  <thead>\n",
       "    <tr style=\"text-align: right;\">\n",
       "      <th></th>\n",
       "      <th>English name</th>\n",
       "      <th>tags</th>\n",
       "    </tr>\n",
       "  </thead>\n",
       "  <tbody>\n",
       "    <tr>\n",
       "      <th>0</th>\n",
       "      <td>Cowboy Bebop</td>\n",
       "      <td>action, adventure, comedy, drama, sci-fi, spac...</td>\n",
       "    </tr>\n",
       "    <tr>\n",
       "      <th>1</th>\n",
       "      <td>Cowboy Bebop:The Movie</td>\n",
       "      <td>action, drama, mystery, sci-fi, space sunrise,...</td>\n",
       "    </tr>\n",
       "    <tr>\n",
       "      <th>2</th>\n",
       "      <td>Trigun</td>\n",
       "      <td>action, sci-fi, adventure, comedy, drama, shou...</td>\n",
       "    </tr>\n",
       "    <tr>\n",
       "      <th>3</th>\n",
       "      <td>Witch Hunter Robin</td>\n",
       "      <td>action, mystery, police, supernatural, drama, ...</td>\n",
       "    </tr>\n",
       "    <tr>\n",
       "      <th>4</th>\n",
       "      <td>Beet the Vandel Buster</td>\n",
       "      <td>adventure, fantasy, shounen, supernatural tv t...</td>\n",
       "    </tr>\n",
       "  </tbody>\n",
       "</table>\n",
       "</div>"
      ],
      "text/plain": [
       "             English name                                               tags\n",
       "0            Cowboy Bebop  action, adventure, comedy, drama, sci-fi, spac...\n",
       "1  Cowboy Bebop:The Movie  action, drama, mystery, sci-fi, space sunrise,...\n",
       "2                  Trigun  action, sci-fi, adventure, comedy, drama, shou...\n",
       "3      Witch Hunter Robin  action, mystery, police, supernatural, drama, ...\n",
       "4  Beet the Vandel Buster  adventure, fantasy, shounen, supernatural tv t..."
      ]
     },
     "execution_count": 48,
     "metadata": {},
     "output_type": "execute_result"
    }
   ],
   "source": [
    "new_df['tags'] = new_df['tags'].apply(lambda x: x.lower())\n",
    "new_df.head()"
   ]
  },
  {
   "cell_type": "code",
   "execution_count": 49,
   "metadata": {},
   "outputs": [],
   "source": [
    "import tensorflow_hub as hub\n",
    "import os\n",
    "import re\n",
    "\n",
    "from sklearn.metrics.pairwise import cosine_similarity\n",
    "from sklearn.neighbors import NearestNeighbors\n",
    "from sklearn.decomposition import PCA"
   ]
  },
  {
   "cell_type": "code",
   "execution_count": 55,
   "metadata": {},
   "outputs": [
    {
     "name": "stdout",
     "output_type": "stream",
     "text": [
      "loaded\n"
     ]
    }
   ],
   "source": [
    "model_url = \"https://tfhub.dev/google/universal-sentence-encoder/4\"\n",
    "model = hub.load(model_url)\n",
    "print(\"loaded\")"
   ]
  },
  {
   "cell_type": "code",
   "execution_count": 57,
   "metadata": {},
   "outputs": [],
   "source": [
    "def embed(texts):\n",
    "    return model(texts)"
   ]
  },
  {
   "cell_type": "code",
   "execution_count": 58,
   "metadata": {},
   "outputs": [
    {
     "data": {
      "text/plain": [
       "<tf.Tensor: shape=(1, 512), dtype=float32, numpy=\n",
       "array([[ 0.00549279,  0.02886906, -0.02628897,  0.04502158, -0.01233335,\n",
       "         0.02568329, -0.00071882, -0.05447304,  0.04221928, -0.0191371 ,\n",
       "         0.02710011, -0.04328045, -0.02486858,  0.0135952 ,  0.00482793,\n",
       "        -0.05379638,  0.01630707,  0.02139907,  0.02644024, -0.02320251,\n",
       "         0.06569218, -0.10137626, -0.01691998,  0.02492482,  0.02406815,\n",
       "        -0.03139618, -0.03265484, -0.05174927, -0.0727149 ,  0.10145196,\n",
       "         0.03868447,  0.04380691, -0.02071748, -0.01873296, -0.03071439,\n",
       "         0.01825575,  0.03627162,  0.01321464,  0.0094349 , -0.03006625,\n",
       "         0.06655685,  0.01529936, -0.10101432, -0.00671943, -0.01578641,\n",
       "         0.04991001,  0.02548564,  0.05454975, -0.01658573,  0.05624885,\n",
       "         0.038345  , -0.08679942, -0.06096426, -0.01161775,  0.01997448,\n",
       "         0.04206816, -0.04119828, -0.00768586, -0.05101158,  0.01210047,\n",
       "        -0.01673209, -0.01382073,  0.00373702,  0.04911597, -0.03481682,\n",
       "         0.05704321,  0.01964699,  0.01331994,  0.06399831, -0.06007639,\n",
       "         0.04977039,  0.05969533, -0.00512161,  0.00345538,  0.02347392,\n",
       "         0.01657879,  0.00882616, -0.05840246,  0.01081956,  0.09112442,\n",
       "        -0.04244037,  0.0237871 , -0.00078291,  0.02853673,  0.00093319,\n",
       "         0.04208673,  0.03671129, -0.04355022, -0.09307761, -0.00054823,\n",
       "        -0.01398351, -0.02585264,  0.00277773,  0.03043685,  0.10135812,\n",
       "         0.00514982,  0.00857201, -0.05206992,  0.09978893,  0.09052151,\n",
       "         0.00727677, -0.0080631 ,  0.01509869, -0.00024922,  0.00344272,\n",
       "        -0.01363511, -0.02850655, -0.02132623,  0.00644553,  0.00035647,\n",
       "         0.04428067,  0.04263918,  0.06019286, -0.01540298, -0.05650955,\n",
       "         0.06915257, -0.02070853, -0.05304862,  0.02065351,  0.02122759,\n",
       "        -0.01767537, -0.00901935, -0.02521258, -0.02947345, -0.00788983,\n",
       "        -0.08103787,  0.00427624, -0.10145584,  0.06386339,  0.09853414,\n",
       "        -0.00386895, -0.02636253,  0.03109704, -0.06319856,  0.02323465,\n",
       "        -0.08689979, -0.02764195, -0.03676214, -0.09642366, -0.00811525,\n",
       "         0.02796138, -0.04216219,  0.02821674,  0.07147539,  0.02029408,\n",
       "         0.05213046,  0.00547965,  0.01005902, -0.00968192,  0.00038215,\n",
       "         0.02508672,  0.0036778 , -0.08550171, -0.03470816,  0.0318283 ,\n",
       "         0.07189633,  0.07062658, -0.04086528,  0.06687138, -0.01880953,\n",
       "        -0.05949423,  0.02761279,  0.07921504,  0.07259229, -0.03060986,\n",
       "         0.02377021, -0.07497517, -0.0389321 ,  0.03242344,  0.00316035,\n",
       "         0.01624396,  0.06015555, -0.02738689, -0.0372602 , -0.02249825,\n",
       "         0.05164826, -0.04710847,  0.04515135,  0.01647224, -0.07968115,\n",
       "        -0.02482686,  0.07581182, -0.04040249, -0.02527559,  0.03866646,\n",
       "         0.02881845,  0.03863062,  0.03125424,  0.09795641,  0.05011384,\n",
       "        -0.04737546, -0.00737251,  0.01652108, -0.06835041,  0.01118035,\n",
       "        -0.04373859,  0.01260422, -0.00242771, -0.00058694, -0.02478766,\n",
       "         0.02563105, -0.05302643, -0.01710283,  0.00217774,  0.06206434,\n",
       "         0.00491735,  0.06120978,  0.01655252, -0.03342636, -0.00202416,\n",
       "        -0.07622245,  0.00806767, -0.08526599, -0.02341258,  0.08972816,\n",
       "        -0.02402737, -0.01625874, -0.04681421,  0.02810655, -0.03114544,\n",
       "         0.01489858, -0.05796926, -0.04334744,  0.04788567, -0.09521475,\n",
       "         0.05614291, -0.09003565, -0.00125589,  0.04825947, -0.01603317,\n",
       "         0.00241583, -0.00702672,  0.02820106,  0.09956265, -0.00557054,\n",
       "        -0.00392302,  0.07811753,  0.04828189,  0.0121674 ,  0.02649802,\n",
       "         0.0275279 ,  0.02974233,  0.07337301,  0.00549876,  0.02175412,\n",
       "         0.03527228, -0.0224583 , -0.03951047, -0.01718162, -0.00958715,\n",
       "         0.01648906,  0.02756682, -0.04291253,  0.01616792,  0.04632331,\n",
       "         0.03654641,  0.00651557, -0.03667973,  0.05807521, -0.01841667,\n",
       "        -0.00266965,  0.00346313, -0.02939765, -0.0150732 ,  0.01409325,\n",
       "        -0.0059119 ,  0.0383997 ,  0.04513567,  0.01936355,  0.02554665,\n",
       "         0.07666099,  0.10104096,  0.00929442,  0.0048254 ,  0.0202761 ,\n",
       "         0.00240536,  0.02083168, -0.03676214,  0.10099945,  0.03398843,\n",
       "         0.05451923,  0.01629779,  0.00153097,  0.04745298, -0.02842082,\n",
       "        -0.10145631, -0.035672  ,  0.0494891 ,  0.05039079, -0.03494554,\n",
       "        -0.005885  ,  0.09687837, -0.05840484,  0.01675771,  0.02724425,\n",
       "         0.02663238,  0.03828523,  0.03009387,  0.01220315,  0.06866229,\n",
       "         0.02131046, -0.0260197 , -0.02164594, -0.05966081,  0.02477535,\n",
       "        -0.03523963,  0.03393568,  0.00168257, -0.00818855,  0.06598676,\n",
       "        -0.01477992, -0.00547293,  0.0250523 ,  0.00648732,  0.02565607,\n",
       "         0.02956758, -0.03080943, -0.03890037, -0.03340892,  0.0014707 ,\n",
       "        -0.01925291,  0.03625212,  0.06860747, -0.04845807,  0.0110069 ,\n",
       "        -0.00560863,  0.0229566 , -0.00988501, -0.03040682,  0.01045822,\n",
       "         0.00439852,  0.0043543 , -0.01468388, -0.02332357, -0.09393281,\n",
       "        -0.04051306, -0.02504385, -0.02483055, -0.00718714,  0.02460037,\n",
       "         0.0977279 ,  0.04025534, -0.03151966,  0.00815453,  0.02152844,\n",
       "         0.02150856, -0.05112506, -0.10104638, -0.04361087, -0.0379595 ,\n",
       "        -0.01316943, -0.00344936, -0.04037199,  0.01797776, -0.01757184,\n",
       "        -0.04222957, -0.0975797 , -0.00327319,  0.03685584,  0.05532566,\n",
       "        -0.01406302, -0.04614406,  0.09916462,  0.03399034,  0.03972926,\n",
       "         0.01713766, -0.09407923,  0.04282649, -0.0111587 ,  0.020565  ,\n",
       "        -0.02484545,  0.02506446,  0.00555098, -0.00292714,  0.03787243,\n",
       "        -0.03494245,  0.06777945,  0.02706826,  0.03850488, -0.05578919,\n",
       "        -0.03302136,  0.00301088,  0.02818894,  0.07666627, -0.08516956,\n",
       "        -0.03537202, -0.06837834, -0.00548797, -0.01908865, -0.00284599,\n",
       "         0.0824784 , -0.01801234, -0.00120913,  0.02134807,  0.02816012,\n",
       "        -0.02182811, -0.07698049,  0.04191504, -0.01772331, -0.10040033,\n",
       "         0.00692177, -0.02796316, -0.0445582 , -0.06157222,  0.10145624,\n",
       "        -0.00963381,  0.10096458,  0.0047177 ,  0.06617888,  0.03885557,\n",
       "        -0.00787657,  0.0268558 , -0.03091918, -0.01056328,  0.10033691,\n",
       "        -0.03595695, -0.01495695,  0.05245739, -0.03973071,  0.04209256,\n",
       "         0.018536  ,  0.0231187 , -0.05690551, -0.03293652,  0.02865034,\n",
       "         0.06984378, -0.02771938,  0.05746059, -0.01802603,  0.10100625,\n",
       "         0.00823106, -0.00218664, -0.01977459, -0.02139798, -0.02073988,\n",
       "        -0.07589929, -0.02751526,  0.01627713, -0.0153914 , -0.06262937,\n",
       "         0.01311475, -0.09933811, -0.04334496, -0.08061336,  0.0091724 ,\n",
       "        -0.02972651, -0.0258902 , -0.06180015, -0.03558385,  0.01895512,\n",
       "        -0.01997392, -0.00617029,  0.07606238,  0.04640514,  0.02881571,\n",
       "        -0.04640506, -0.01369573, -0.06184129,  0.04200373,  0.00202797,\n",
       "        -0.02030321,  0.04844751,  0.01807224,  0.07844782, -0.03313062,\n",
       "         0.05824583,  0.00447842, -0.01961144, -0.00045633,  0.03107099,\n",
       "        -0.00321144,  0.01680857,  0.06138909,  0.00517969, -0.02396524,\n",
       "         0.02933806, -0.05025383, -0.04185723,  0.09955993,  0.06448301,\n",
       "         0.03606918, -0.03115356,  0.01786364,  0.01037989,  0.06728493,\n",
       "        -0.06519368,  0.0049594 ,  0.10143957, -0.01632897, -0.04359468,\n",
       "        -0.02721567, -0.01624425,  0.03745245, -0.02960903,  0.04793227,\n",
       "        -0.01649589, -0.00442804,  0.00562303, -0.01870941, -0.05266129,\n",
       "        -0.02731569, -0.10080238,  0.02205934,  0.0253306 , -0.04713247,\n",
       "         0.01325951, -0.01660333,  0.00863713,  0.06462494, -0.05216797,\n",
       "         0.10145401, -0.00225029]], dtype=float32)>"
      ]
     },
     "execution_count": 58,
     "metadata": {},
     "output_type": "execute_result"
    }
   ],
   "source": [
    "embed(['this movie was great'])"
   ]
  },
  {
   "cell_type": "code",
   "execution_count": 59,
   "metadata": {},
   "outputs": [],
   "source": [
    "new_df = new_df[:5500]"
   ]
  },
  {
   "cell_type": "code",
   "execution_count": 60,
   "metadata": {},
   "outputs": [
    {
     "data": {
      "text/plain": [
       "['action, adventure, comedy, drama, sci-fi, space bandai visual sunrise r - 17+ (violence & profanity)',\n",
       " 'action, drama, mystery, sci-fi, space sunrise, bandai visual bones r - 17+ (violence & profanity)',\n",
       " 'action, sci-fi, adventure, comedy, drama, shounen victor entertainment madhouse pg-13 - teens 13 or older',\n",
       " 'action, mystery, police, supernatural, drama, magic tv tokyo, bandai visual, dentsu, victor entertainment sunrise pg-13 - teens 13 or older',\n",
       " 'adventure, fantasy, shounen, supernatural tv tokyo, dentsu toei animation pg - children']"
      ]
     },
     "execution_count": 60,
     "metadata": {},
     "output_type": "execute_result"
    }
   ],
   "source": [
    "titles = list(new_df['tags'])\n",
    "titles[:5]"
   ]
  },
  {
   "cell_type": "code",
   "execution_count": 82,
   "metadata": {},
   "outputs": [
    {
     "name": "stdout",
     "output_type": "stream",
     "text": [
      "(5500, 512)\n"
     ]
    }
   ],
   "source": [
    "embedings = embed(titles)\n",
    "print(embedings.shape)"
   ]
  },
  {
   "cell_type": "code",
   "execution_count": 83,
   "metadata": {},
   "outputs": [
    {
     "data": {
      "text/html": [
       "<style>#sk-container-id-2 {color: black;background-color: white;}#sk-container-id-2 pre{padding: 0;}#sk-container-id-2 div.sk-toggleable {background-color: white;}#sk-container-id-2 label.sk-toggleable__label {cursor: pointer;display: block;width: 100%;margin-bottom: 0;padding: 0.3em;box-sizing: border-box;text-align: center;}#sk-container-id-2 label.sk-toggleable__label-arrow:before {content: \"▸\";float: left;margin-right: 0.25em;color: #696969;}#sk-container-id-2 label.sk-toggleable__label-arrow:hover:before {color: black;}#sk-container-id-2 div.sk-estimator:hover label.sk-toggleable__label-arrow:before {color: black;}#sk-container-id-2 div.sk-toggleable__content {max-height: 0;max-width: 0;overflow: hidden;text-align: left;background-color: #f0f8ff;}#sk-container-id-2 div.sk-toggleable__content pre {margin: 0.2em;color: black;border-radius: 0.25em;background-color: #f0f8ff;}#sk-container-id-2 input.sk-toggleable__control:checked~div.sk-toggleable__content {max-height: 200px;max-width: 100%;overflow: auto;}#sk-container-id-2 input.sk-toggleable__control:checked~label.sk-toggleable__label-arrow:before {content: \"▾\";}#sk-container-id-2 div.sk-estimator input.sk-toggleable__control:checked~label.sk-toggleable__label {background-color: #d4ebff;}#sk-container-id-2 div.sk-label input.sk-toggleable__control:checked~label.sk-toggleable__label {background-color: #d4ebff;}#sk-container-id-2 input.sk-hidden--visually {border: 0;clip: rect(1px 1px 1px 1px);clip: rect(1px, 1px, 1px, 1px);height: 1px;margin: -1px;overflow: hidden;padding: 0;position: absolute;width: 1px;}#sk-container-id-2 div.sk-estimator {font-family: monospace;background-color: #f0f8ff;border: 1px dotted black;border-radius: 0.25em;box-sizing: border-box;margin-bottom: 0.5em;}#sk-container-id-2 div.sk-estimator:hover {background-color: #d4ebff;}#sk-container-id-2 div.sk-parallel-item::after {content: \"\";width: 100%;border-bottom: 1px solid gray;flex-grow: 1;}#sk-container-id-2 div.sk-label:hover label.sk-toggleable__label {background-color: #d4ebff;}#sk-container-id-2 div.sk-serial::before {content: \"\";position: absolute;border-left: 1px solid gray;box-sizing: border-box;top: 0;bottom: 0;left: 50%;z-index: 0;}#sk-container-id-2 div.sk-serial {display: flex;flex-direction: column;align-items: center;background-color: white;padding-right: 0.2em;padding-left: 0.2em;position: relative;}#sk-container-id-2 div.sk-item {position: relative;z-index: 1;}#sk-container-id-2 div.sk-parallel {display: flex;align-items: stretch;justify-content: center;background-color: white;position: relative;}#sk-container-id-2 div.sk-item::before, #sk-container-id-2 div.sk-parallel-item::before {content: \"\";position: absolute;border-left: 1px solid gray;box-sizing: border-box;top: 0;bottom: 0;left: 50%;z-index: -1;}#sk-container-id-2 div.sk-parallel-item {display: flex;flex-direction: column;z-index: 1;position: relative;background-color: white;}#sk-container-id-2 div.sk-parallel-item:first-child::after {align-self: flex-end;width: 50%;}#sk-container-id-2 div.sk-parallel-item:last-child::after {align-self: flex-start;width: 50%;}#sk-container-id-2 div.sk-parallel-item:only-child::after {width: 0;}#sk-container-id-2 div.sk-dashed-wrapped {border: 1px dashed gray;margin: 0 0.4em 0.5em 0.4em;box-sizing: border-box;padding-bottom: 0.4em;background-color: white;}#sk-container-id-2 div.sk-label label {font-family: monospace;font-weight: bold;display: inline-block;line-height: 1.2em;}#sk-container-id-2 div.sk-label-container {text-align: center;}#sk-container-id-2 div.sk-container {/* jupyter's `normalize.less` sets `[hidden] { display: none; }` but bootstrap.min.css set `[hidden] { display: none !important; }` so we also need the `!important` here to be able to override the default hidden behavior on the sphinx rendered scikit-learn.org. See: https://github.com/scikit-learn/scikit-learn/issues/21755 */display: inline-block !important;position: relative;}#sk-container-id-2 div.sk-text-repr-fallback {display: none;}</style><div id=\"sk-container-id-2\" class=\"sk-top-container\"><div class=\"sk-text-repr-fallback\"><pre>NearestNeighbors(n_neighbors=10)</pre><b>In a Jupyter environment, please rerun this cell to show the HTML representation or trust the notebook. <br />On GitHub, the HTML representation is unable to render, please try loading this page with nbviewer.org.</b></div><div class=\"sk-container\" hidden><div class=\"sk-item\"><div class=\"sk-estimator sk-toggleable\"><input class=\"sk-toggleable__control sk-hidden--visually\" id=\"sk-estimator-id-2\" type=\"checkbox\" checked><label for=\"sk-estimator-id-2\" class=\"sk-toggleable__label sk-toggleable__label-arrow\">NearestNeighbors</label><div class=\"sk-toggleable__content\"><pre>NearestNeighbors(n_neighbors=10)</pre></div></div></div></div></div>"
      ],
      "text/plain": [
       "NearestNeighbors(n_neighbors=10)"
      ]
     },
     "execution_count": 83,
     "metadata": {},
     "output_type": "execute_result"
    }
   ],
   "source": [
    "nn = NearestNeighbors(n_neighbors=10)\n",
    "nn.fit(embedings)"
   ]
  },
  {
   "cell_type": "code",
   "execution_count": 84,
   "metadata": {},
   "outputs": [],
   "source": [
    "def recommend(text):\n",
    "    emb = embed([text])\n",
    "    neighbors = nn.kneighbors(emb, return_distance=False)[0]\n",
    "    return new_df['English name'].iloc[neighbors].tolist()"
   ]
  },
  {
   "cell_type": "code",
   "execution_count": 85,
   "metadata": {},
   "outputs": [
    {
     "data": {
      "text/plain": [
       "['Demon of the Kick',\n",
       " 'Unknown',\n",
       " 'Dragon Ball Specials',\n",
       " 'Unknown',\n",
       " 'Unknown',\n",
       " 'Air Gear:Special Trick',\n",
       " 'Unknown',\n",
       " 'Unknown',\n",
       " 'Kindaichi Case Files Special',\n",
       " 'Unknown']"
      ]
     },
     "execution_count": 85,
     "metadata": {},
     "output_type": "execute_result"
    }
   ],
   "source": [
    "recommend('Naruto')"
   ]
  }
 ],
 "metadata": {
  "kernelspec": {
   "display_name": "Python 3.10.6 64-bit",
   "language": "python",
   "name": "python3"
  },
  "language_info": {
   "codemirror_mode": {
    "name": "ipython",
    "version": 3
   },
   "file_extension": ".py",
   "mimetype": "text/x-python",
   "name": "python",
   "nbconvert_exporter": "python",
   "pygments_lexer": "ipython3",
   "version": "3.10.6"
  },
  "orig_nbformat": 4,
  "vscode": {
   "interpreter": {
    "hash": "4f70db63aa86af95199a73a30a4220f0cb0512a994d98e64cc68e10999d8ab10"
   }
  }
 },
 "nbformat": 4,
 "nbformat_minor": 2
}
